{
 "cells": [
  {
   "cell_type": "code",
   "execution_count": 1,
   "id": "269e7b04-62ab-409a-88a9-4e84e3744d69",
   "metadata": {},
   "outputs": [
    {
     "data": {
      "text/plain": [
       "\"\\nThe parser repeats the offending line and displays a little ‘arrow’ pointing at the earliest point in the line where the error was detected. \\nThe error is caused by (or at least detected at) the token preceding the arrow: in the example, the error is detected at the function print(), \\nsince a colon (':') is missing before it. File name and line number are printed so you know where to look in case the input came from a script.\\n\""
      ]
     },
     "execution_count": 1,
     "metadata": {},
     "output_type": "execute_result"
    }
   ],
   "source": [
    "#Problem_1\n",
    "\n",
    "#Exceptions\n",
    "\"\"\"Even if a statement or expression is syntactically correct, it may cause an error when an attempt is made to execute it. \n",
    "Errors detected during execution are called exceptions and are not unconditionally fatal: you will soon learn how to handle\n",
    "them in Python programs. Most exceptions are not handled by programs, however, and result in error messages as shown here:\"\"\"\n",
    "\n",
    "\"\"\"\n",
    "10 * (1/0)\n",
    "Traceback (most recent call last):\n",
    "  File \"<stdin>\", line 1, in <module>\n",
    "ZeroDivisionError: division by zero\n",
    "4 + spam*3\n",
    "Traceback (most recent call last):\n",
    "  File \"<stdin>\", line 1, in <module>\n",
    "NameError: name 'spam' is not defined\n",
    "'2' + 2\n",
    "Traceback (most recent call last):\n",
    "  File \"<stdin>\", line 1, in <module>\n",
    "TypeError: can only concatenate str (not \"int\") to str\n",
    "\"\"\"\n",
    "\"\"\"\n",
    "The last line of the error message indicates what happened. Exceptions come in different types, \n",
    "and the type is printed as part of the message: the types in the example are ZeroDivisionError, \n",
    "NameError and TypeError. The string printed as the exception type is the name of the built-in exception \n",
    "that occurred. This is true for all built-in exceptions, but need not be true for user-defined exceptions \n",
    "(although it is a useful convention). Standard exception names are built-in identifiers (not reserved keywords).\n",
    "The rest of the line provides detail based on the type of exception and what caused it.\n",
    "The preceding part of the error message shows the context where the exception occurred, in the form of a stack traceback. \n",
    "In general it contains a stack traceback listing source lines; however, it will not display lines read from standard input.\n",
    "\"\"\"\n",
    "\n",
    "\n",
    "#Syntax errors\n",
    "\"\"\"\n",
    "Syntax errors, also known as parsing errors, are perhaps the most common kind of complaint you get \n",
    "while you are still learning Python:\n",
    "\"\"\"\n",
    "\"\"\"\n",
    "while True print('Hello world')\n",
    "  File \"<stdin>\", line 1\n",
    "    while True print('Hello world')\n",
    "                   ^\n",
    "SyntaxError: invalid syntax\n",
    "\"\"\"\n",
    "\n",
    "\"\"\"\n",
    "The parser repeats the offending line and displays a little ‘arrow’ pointing at the earliest point in the line where the error was detected. \n",
    "The error is caused by (or at least detected at) the token preceding the arrow: in the example, the error is detected at the function print(), \n",
    "since a colon (':') is missing before it. File name and line number are printed so you know where to look in case the input came from a script.\n",
    "\"\"\""
   ]
  },
  {
   "cell_type": "code",
   "execution_count": null,
   "id": "fa41ef75-b33e-46c1-86d0-1d66dd3dfb4e",
   "metadata": {},
   "outputs": [],
   "source": [
    "#Problem_2\n",
    "\"\"\"\n",
    "In some situations, we might want to run a certain block of code if the code block\n",
    "inside try runs without any errors.\n",
    "For these cases, you can use the optional else keyword with the try statement.\n",
    "Let's look at an example:\n",
    "\"\"\"\n",
    "# program to print the reciprocal of even numbers\n",
    "\n",
    "try:\n",
    "    num = int(input(\"Enter a number: \"))\n",
    "    assert num % 2 == 0\n",
    "except:\n",
    "    print(\"Not an even number!\")\n",
    "else:\n",
    "    reciprocal = 1/num\n",
    "    print(reciprocal)\n",
    "    \n",
    "\n"
   ]
  },
  {
   "cell_type": "code",
   "execution_count": 2,
   "id": "07e475e8-4407-4ed3-95f0-610b7d17e927",
   "metadata": {},
   "outputs": [
    {
     "name": "stdout",
     "output_type": "stream",
     "text": [
      "Error: Denominator cannot be 0.\n"
     ]
    }
   ],
   "source": [
    "#Problem_3\n",
    "\"\"\"\n",
    "The try and except block in Python is used to catch and handle exceptions. Python executes code following \n",
    "the try statement as a “normal” part of the program. The code that follows the except statement is the program’s \n",
    "response to any exceptions in the preceding try clause.\n",
    "As you saw earlier, when syntactically correct code runs into an error, Python will throw an exception error. \n",
    "This exception error will crash the program if it is unhandled. The except clause determines how your program\n",
    "responds to exceptions.\n",
    "\"\"\"\n",
    "\"\"\"\n",
    "try:\n",
    "    # code that may cause exception\n",
    "except:\n",
    "    # code to run when exception occurs\n",
    "    \n",
    "\"\"\"\n",
    "try:\n",
    "    numerator = 10\n",
    "    denominator = 0\n",
    "\n",
    "    result = numerator/denominator\n",
    "\n",
    "    print(result)\n",
    "except:\n",
    "    print(\"Error: Denominator cannot be 0.\")\n",
    "\n",
    "# Output: Error: Denominator cannot be 0. \n"
   ]
  },
  {
   "cell_type": "code",
   "execution_count": 3,
   "id": "46e0b2d9-0fb4-4f10-9d06-a86a94c44e1a",
   "metadata": {},
   "outputs": [
    {
     "name": "stdin",
     "output_type": "stream",
     "text": [
      "Enter a number:  5\n"
     ]
    },
    {
     "name": "stdout",
     "output_type": "stream",
     "text": [
      "Not an even number!\n",
      "Error: Denominator cannot be 0.\n",
      "This is finally block.\n"
     ]
    },
    {
     "ename": "Exception",
     "evalue": "Sorry, no numbers below zero",
     "output_type": "error",
     "traceback": [
      "\u001b[0;31m---------------------------------------------------------------------------\u001b[0m",
      "\u001b[0;31mException\u001b[0m                                 Traceback (most recent call last)",
      "Cell \u001b[0;32mIn[3], line 33\u001b[0m\n\u001b[1;32m     30\u001b[0m x \u001b[38;5;241m=\u001b[39m \u001b[38;5;241m-\u001b[39m\u001b[38;5;241m1\u001b[39m\n\u001b[1;32m     32\u001b[0m \u001b[38;5;28;01mif\u001b[39;00m x \u001b[38;5;241m<\u001b[39m \u001b[38;5;241m0\u001b[39m:\n\u001b[0;32m---> 33\u001b[0m     \u001b[38;5;28;01mraise\u001b[39;00m \u001b[38;5;167;01mException\u001b[39;00m(\u001b[38;5;124m\"\u001b[39m\u001b[38;5;124mSorry, no numbers below zero\u001b[39m\u001b[38;5;124m\"\u001b[39m)\n",
      "\u001b[0;31mException\u001b[0m: Sorry, no numbers below zero"
     ]
    }
   ],
   "source": [
    "#Problem_4\n",
    "\n",
    "#try and else\n",
    "# program to print the reciprocal of even numbers\n",
    "\n",
    "try:\n",
    "    num = int(input(\"Enter a number: \"))\n",
    "    assert num % 2 == 0\n",
    "except:\n",
    "    print(\"Not an even number!\")\n",
    "else:\n",
    "    reciprocal = 1/num\n",
    "    print(reciprocal)\n",
    "    \n",
    "#finally\n",
    "try:\n",
    "    numerator = 10\n",
    "    denominator = 0\n",
    "\n",
    "    result = numerator/denominator\n",
    "\n",
    "    print(result)\n",
    "except:\n",
    "    print(\"Error: Denominator cannot be 0.\")\n",
    "    \n",
    "finally:\n",
    "    print(\"This is finally block.\")\n",
    "    \n",
    "#Raise\n",
    "x = -1\n",
    "\n",
    "if x < 0:\n",
    "    raise Exception(\"Sorry, no numbers below zero\")"
   ]
  },
  {
   "cell_type": "code",
   "execution_count": null,
   "id": "012acbbc-b7a3-4b48-808d-c4cf86a68cbb",
   "metadata": {},
   "outputs": [],
   "source": [
    "#Problem_5\n",
    "\"\"\"\n",
    "In Python, we can define custom exceptions by creating a new class that is derived from the built-in Exception class.\n",
    "Here's the syntax to define custom exceptions,\n",
    "\n",
    "\"\"\"\n",
    "\n",
    "\"\"\"\n",
    "class CustomError(Exception):\n",
    "    ...\n",
    "    pass\n",
    "\n",
    "try:\n",
    "   ...\n",
    "\n",
    "except CustomError:\n",
    "    ...\n",
    "\"\"\"\n",
    "# define Python user-defined exceptions\n",
    "class InvalidAgeException(Exception):\n",
    "    \"Raised when the input value is less than 18\"\n",
    "    pass\n",
    "\n",
    "# you need to guess this number\n",
    "number = 18\n",
    "\n",
    "try:\n",
    "    input_num = int(input(\"Enter a number: \"))\n",
    "    if input_num < number:\n",
    "        raise InvalidAgeException\n",
    "    else:\n",
    "        print(\"Eligible to Vote\")\n",
    "        \n",
    "except InvalidAgeException:\n",
    "    print(\"Exception occurred: Invalid Age\")"
   ]
  },
  {
   "cell_type": "code",
   "execution_count": null,
   "id": "cc61db81-fd36-43b9-b3b9-020816935740",
   "metadata": {},
   "outputs": [],
   "source": [
    "#Problem_6\n",
    "class SalaryNotInRangeError(Exception):\n",
    "   \n",
    "\n",
    "    def __init__(self, salary, message=\"Salary is not in (5000, 15000) range\"):\n",
    "        self.salary = salary\n",
    "        self.message = message\n",
    "        super().__init__(self.message)\n",
    "\n",
    "\n",
    "salary = int(input(\"Enter salary amount: \"))\n",
    "if not 5000 < salary < 15000:\n",
    "    raise SalaryNotInRangeError(salary)"
   ]
  }
 ],
 "metadata": {
  "kernelspec": {
   "display_name": "Python 3 (ipykernel)",
   "language": "python",
   "name": "python3"
  },
  "language_info": {
   "codemirror_mode": {
    "name": "ipython",
    "version": 3
   },
   "file_extension": ".py",
   "mimetype": "text/x-python",
   "name": "python",
   "nbconvert_exporter": "python",
   "pygments_lexer": "ipython3",
   "version": "3.10.8"
  }
 },
 "nbformat": 4,
 "nbformat_minor": 5
}
